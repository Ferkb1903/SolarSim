{
 "cells": [
  {
   "cell_type": "code",
   "execution_count": 4,
   "id": "3d83397e-9792-469d-8341-cb4b3017caed",
   "metadata": {},
   "outputs": [
    {
     "name": "stdout",
     "output_type": "stream",
     "text": [
      "Cargando archivos de datos...\n",
      "\n",
      "ERROR: No se pudo encontrar el archivo 'sin_sombrilla_hits.csv'.\n"
     ]
    }
   ],
   "source": [
    "import pandas as pd\n",
    "import matplotlib.pyplot as plt\n",
    "import numpy as np\n",
    "\n",
    "# --- Configuración ---\n",
    "# Cambia este nombre de archivo al que quieras analizar (ej. 'con_sombrilla_hits.csv')\n",
    "file_to_analyze = 'sin_sombrilla_hits.csv' \n",
    "plt.style.use('seaborn-v0_8-whitegrid')\n",
    "\n",
    "try:\n",
    "    # --- 1. Carga de Datos ---\n",
    "    print(f\"Cargando archivo de datos '{file_to_analyze}'...\")\n",
    "    df_hits = pd.read_csv(file_to_analyze)\n",
    "    print(\"¡Archivo cargado con éxito!\")\n",
    "\n",
    "    if df_hits.empty:\n",
    "        print(\"\\nEl archivo CSV está vacío. No se pueden generar gráficos.\")\n",
    "    else:\n",
    "        # --- 2. Preparación de Datos ---\n",
    "        \n",
    "        # Agrupamos por el ID del evento y sumamos la energía de todos los hits\n",
    "        # para obtener la energía total depositada en cada evento.\n",
    "        energia_por_evento = df_hits.groupby('EventID')['Edep_keV'].sum()\n",
    "        \n",
    "        # --- 3. Visualización ---\n",
    "        print(\"Generando gráficos de distribución...\")\n",
    "\n",
    "        # --- GRÁFICO 1: Distribución por Hit (Asimétrica/Landau) ---\n",
    "        # Esto muestra la energía de cada interacción individual.\n",
    "        plt.figure(figsize=(12, 7))\n",
    "        plt.hist(df_hits['Edep_keV'], bins=150, color='darkcyan', alpha=0.8, label='Energía por Hit')\n",
    "        plt.xlabel('Energía Depositada por Hit Individual (keV)')\n",
    "        plt.ylabel('Frecuencia')\n",
    "        plt.title('Distribución de Energía por Hit (Tipo Landau)')\n",
    "        plt.yscale('log') # Escala logarítmica para ver mejor la cola larga\n",
    "        plt.legend()\n",
    "        plt.show()\n",
    "\n",
    "        # --- GRÁFICO 2: Distribución por Evento (Gaussiana) ---\n",
    "        # Esto muestra la energía total depositada por cada partícula primaria.\n",
    "        plt.figure(figsize=(12, 7))\n",
    "        plt.hist(energia_por_evento, bins=100, color='coral', alpha=0.8, label='Energía Total por Evento')\n",
    "        plt.xlabel('Energía Total Depositada por Evento (keV)')\n",
    "        plt.ylabel('Frecuencia')\n",
    "        plt.title('Distribución de Energía por Evento (Tipo Gaussiano)')\n",
    "        plt.legend()\n",
    "        plt.show()\n",
    "\n",
    "except FileNotFoundError:\n",
    "    print(f\"\\nERROR: No se pudo encontrar el archivo '{file_to_analyze}'.\")\n",
    "    print(\"Asegúrate de que el archivo CSV esté en el mismo directorio que este notebook.\")\n",
    "except Exception as e:\n",
    "    print(f\"Ocurrió un error inesperado durante el análisis: {e}\")\n",
    "\n",
    "\n"
   ]
  },
  {
   "cell_type": "code",
   "execution_count": null,
   "id": "38f9b336-c3a1-4b6c-98c6-4392c6d87f5f",
   "metadata": {},
   "outputs": [],
   "source": []
  }
 ],
 "metadata": {
  "kernelspec": {
   "display_name": "geant4",
   "language": "python",
   "name": "geant4"
  },
  "language_info": {
   "codemirror_mode": {
    "name": "ipython",
    "version": 3
   },
   "file_extension": ".py",
   "mimetype": "text/x-python",
   "name": "python",
   "nbconvert_exporter": "python",
   "pygments_lexer": "ipython3",
   "version": "3.10.16"
  }
 },
 "nbformat": 4,
 "nbformat_minor": 5
}
