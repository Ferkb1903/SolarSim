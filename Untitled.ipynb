{
 "cells": [
  {
   "cell_type": "code",
   "execution_count": 1,
   "id": "bc69b596-1fda-4dd3-be5f-82d7ce7de1c9",
   "metadata": {},
   "outputs": [
    {
     "name": "stdout",
     "output_type": "stream",
     "text": [
      "Cargando archivos de datos con EventID...\n",
      "\n",
      "ERROR: No se pudo encontrar el archivo 'sin_sombrilla.csv'.\n"
     ]
    }
   ],
   "source": [
    "import pandas as pd\n",
    "import matplotlib.pyplot as plt\n",
    "import numpy as np\n",
    "\n",
    "# --- Configuración ---\n",
    "file_sin_sombrilla = 'sin_sombrilla.csv'\n",
    "file_con_sombrilla = 'con_sombrilla.csv'\n",
    "plt.style.use('seaborn-v0_8-whitegrid')\n",
    "\n",
    "try:\n",
    "    # --- 1. Carga de Datos (con el nuevo formato) ---\n",
    "    print(\"Cargando archivos de datos con EventID...\")\n",
    "    df_sin = pd.read_csv(file_sin_sombrilla)\n",
    "    df_con = pd.read_csv(file_con_sombrilla)\n",
    "    print(\"¡Archivos cargados con éxito!\")\n",
    "\n",
    "    # --- 2. Análisis Cuantitativo Básico ---\n",
    "    total_energia_sin = df_sin['Edep_keV'].sum()\n",
    "    total_energia_con = df_con['Edep_keV'].sum()\n",
    "    reduccion_energia = ((total_energia_sin - total_energia_con) / total_energia_sin) * 100 if total_energia_sin > 0 else 0\n",
    "\n",
    "    print(\"\\n\" + \"=\"*60)\n",
    "    print(\"      ANÁLISIS DE RESULTADOS\")\n",
    "    print(\"=\"*60)\n",
    "    print(f\"Energía Total SIN Sombrilla: {total_energia_sin:,.2f} keV\")\n",
    "    print(f\"Energía Total CON Sombrilla: {total_energia_con:,.2f} keV\")\n",
    "    print(f\"Reducción de Energía Total: {reduccion_energia:.2f}%\")\n",
    "    print(\"=\"*60 + \"\\n\")\n",
    "\n",
    "    # --- 3. Preparación para el Heatmap ---\n",
    "    # Agrupamos por evento para obtener la energía total depositada en cada uno.\n",
    "    edep_por_evento_sin = df_sin.groupby('EventID')['Edep_keV'].sum()\n",
    "    edep_por_evento_con = df_con.groupby('EventID')['Edep_keV'].sum()\n",
    "\n",
    "    # --- CORRECCIÓN DEL VALUEERROR ---\n",
    "    # Renombramos la columna de energía para evitar el conflicto en el 'join'.\n",
    "    edep_por_evento_sin = edep_por_evento_sin.rename('TotalEdep_keV')\n",
    "    edep_por_evento_con = edep_por_evento_con.rename('TotalEdep_keV')\n",
    "\n",
    "    # Obtenemos la posición del primer hit de cada evento.\n",
    "    pos_primer_hit_sin = df_sin.loc[df_sin.groupby('EventID')['Edep_keV'].cumcount() == 0]\n",
    "    pos_primer_hit_con = df_con.loc[df_con.groupby('EventID')['Edep_keV'].cumcount() == 0]\n",
    "\n",
    "    # Unimos la posición del primer hit con la energía total de ese evento.\n",
    "    # El join ahora funciona porque las columnas de energía tienen nombres diferentes.\n",
    "    heatmap_df_sin = pos_primer_hit_sin.set_index('EventID').join(edep_por_evento_sin)\n",
    "    heatmap_df_con = pos_primer_hit_con.set_index('EventID').join(edep_por_evento_con)\n",
    "\n",
    "    # --- 4. Visualización ---\n",
    "    print(\"Generando gráficos...\")\n",
    "    \n",
    "    def generar_heatmap(df, titulo, num_bins=50):\n",
    "        if df.empty:\n",
    "            print(f\"No hay datos para generar el heatmap: {titulo}\")\n",
    "            return\n",
    "        plt.figure(figsize=(10, 8))\n",
    "        # Usamos la posición X/Y del primer hit y el valor de energía total del evento.\n",
    "        plt.hexbin(df['X_cm'], df['Y_cm'], C=df['TotalEdep_keV'], \n",
    "                   gridsize=num_bins, cmap='inferno', reduce_C_function=np.sum)\n",
    "        cb = plt.colorbar()\n",
    "        cb.set_label('Energía Total Depositada por Evento en el Área (keV)')\n",
    "        plt.xlabel('Posición X (cm)')\n",
    "        plt.ylabel('Posición Y (cm)')\n",
    "        plt.title(titulo)\n",
    "        plt.axis('equal')\n",
    "        plt.show()\n",
    "\n",
    "    # Generar los heatmaps\n",
    "    generar_heatmap(heatmap_df_sin, 'Mapa de Calor de Energía Depositada (Sin Sombrilla)')\n",
    "    generar_heatmap(heatmap_df_con, 'Mapa de Calor de Energía Depositada (Con Sombrilla)')\n",
    "\n",
    "except FileNotFoundError as e:\n",
    "    print(f\"\\nERROR: No se pudo encontrar el archivo '{e.filename}'.\")\n",
    "except Exception as e:\n",
    "    print(f\"Ocurrió un error inesperado durante el análisis: {e}\")\n",
    "\n"
   ]
  },
  {
   "cell_type": "code",
   "execution_count": null,
   "id": "7cf46f6a-1d65-4219-a688-54964b51711a",
   "metadata": {},
   "outputs": [],
   "source": []
  }
 ],
 "metadata": {
  "kernelspec": {
   "display_name": "geant4",
   "language": "python",
   "name": "geant4"
  },
  "language_info": {
   "codemirror_mode": {
    "name": "ipython",
    "version": 3
   },
   "file_extension": ".py",
   "mimetype": "text/x-python",
   "name": "python",
   "nbconvert_exporter": "python",
   "pygments_lexer": "ipython3",
   "version": "3.10.16"
  }
 },
 "nbformat": 4,
 "nbformat_minor": 5
}
